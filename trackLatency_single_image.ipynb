{
 "cells": [
  {
   "cell_type": "markdown",
   "metadata": {},
   "source": [
    "## Track latency of single GOES product.\n",
    "\n",
    "When executed, the code will wait till the next GOES image has been acquired, and is made available in AWS bucket.\n",
    "\n",
    "NOTE: All time stamps in UTC."
   ]
  },
  {
   "cell_type": "code",
   "execution_count": 1,
   "metadata": {},
   "outputs": [],
   "source": [
    "import os\n",
    "import time\n",
    "import datetime\n",
    "\n",
    "import pandas\n",
    "\n",
    "import helper"
   ]
  },
  {
   "cell_type": "code",
   "execution_count": 2,
   "metadata": {},
   "outputs": [],
   "source": [
    "check_ever_n_seconds = 1\n",
    "\n",
    "DOWNLOAD_DIR = \"../DataDump//\"\n",
    "\n",
    "radProduct = 'ABI-L1b-RadC' ## L1 products CONUS\n",
    "\n",
    "## Level 2 data product to check\n",
    "dataProductCode = [ 'ABI-L2-MCMIPC', ## Level 2 Cloud and Moisture Imagery CONUS\n",
    "                    'ABI-L2-ACMC',   ## Level 2 Clear Sky Mask CONUS\n",
    "                    'ABI-L2-FDCC'    ## Level 2 Fire (Hot Spot Characterization) CONUS\n",
    "                ]"
   ]
  },
  {
   "cell_type": "code",
   "execution_count": 3,
   "metadata": {},
   "outputs": [],
   "source": [
    "## var init\n",
    "counter = 0\n",
    "dict_product_avaliable_time = {}"
   ]
  },
  {
   "cell_type": "markdown",
   "metadata": {},
   "source": [
    "I suggest to run the sections below in quick sucession. Or, run all cells at once."
   ]
  },
  {
   "cell_type": "code",
   "execution_count": 4,
   "metadata": {},
   "outputs": [
    {
     "name": "stdout",
     "output_type": "stream",
     "text": [
      "UTC Start Time  --> 2022-08-01 14:21:31.569498+00:00\n",
      "UTC End Time    --> 2022-08-01 14:31:31.569498+00:00\n"
     ]
    }
   ],
   "source": [
    "queryTime = datetime.datetime.now(datetime.timezone.utc)\n",
    "\n",
    "\n",
    "## Get a Time Range to look for past/old imagery already available --> \n",
    "## Here we look back 30 minutes\n",
    "past_time, _ = helper.getTimeRange(queryTime, bufferMinutes = [30, 0])\n",
    "\n",
    "\n",
    "\n",
    "## Also, we would next look forward in time () till we get an image\n",
    "## This step is a hack to extend functions for historic images to query future image\n",
    "## start_time --> would be current time, or query time\n",
    "## end_time   --> is a time 10 minutes in future\n",
    "start_time, end_time = helper.getTimeRange(queryTime, bufferMinutes = [0, 10])\n",
    "\n",
    "\n",
    "print(\"UTC Start Time  -->\", start_time)\n",
    "print(\"UTC End Time    -->\", end_time)\n",
    "\n"
   ]
  },
  {
   "cell_type": "code",
   "execution_count": 5,
   "metadata": {},
   "outputs": [
    {
     "name": "stdout",
     "output_type": "stream",
     "text": [
      "ABI-L2-MCMIPC:\n",
      "<DatetimeArray>\n",
      "['2022-08-01 13:56:17.300000+00:00', '2022-08-01 14:01:17.300000+00:00',\n",
      " '2022-08-01 14:06:17.300000+00:00', '2022-08-01 14:11:17.300000+00:00',\n",
      " '2022-08-01 14:16:17.300000+00:00']\n",
      "Length: 5, dtype: datetime64[ns, UTC]\n",
      "-------------------\n",
      "ABI-L2-ACMC:\n",
      "<DatetimeArray>\n",
      "['2022-08-01 13:56:17.300000+00:00', '2022-08-01 14:01:17.300000+00:00',\n",
      " '2022-08-01 14:06:17.300000+00:00', '2022-08-01 14:11:17.300000+00:00',\n",
      " '2022-08-01 14:16:17.300000+00:00']\n",
      "Length: 5, dtype: datetime64[ns, UTC]\n",
      "-------------------\n",
      "ABI-L2-FDCC:\n",
      "<DatetimeArray>\n",
      "['2022-08-01 13:56:17.300000+00:00', '2022-08-01 14:01:17.300000+00:00',\n",
      " '2022-08-01 14:06:17.300000+00:00', '2022-08-01 14:11:17.300000+00:00',\n",
      " '2022-08-01 14:16:17.300000+00:00']\n",
      "Length: 5, dtype: datetime64[ns, UTC]\n",
      "-------------------\n"
     ]
    }
   ],
   "source": [
    "## Here we are not downloading the old images -- just querying the available imagery in AWS.\n",
    "for p in dataProductCode:\n",
    "    df_old = helper.getProductList(past_time, start_time, product = p, satellite = 16)\n",
    "\n",
    "    print(\"{}:\".format(p))\n",
    "    print(df_old['start'].unique())\n",
    "    print('-------------------')\n",
    "\n",
    "    df_old.to_csv(\"{}_old_data_availiblity.csv\".format(p))"
   ]
  },
  {
   "cell_type": "markdown",
   "metadata": {},
   "source": [
    "### Check for Level 1 products that have been accquired running the notebook\n",
    "--> If the product is not available, wait till all 16 bands are available\n"
   ]
  },
  {
   "cell_type": "code",
   "execution_count": 6,
   "metadata": {},
   "outputs": [
    {
     "name": "stdout",
     "output_type": "stream",
     "text": [
      "\n",
      "Frame Start:  14:26:17.300000 +/- 0.0\n",
      "Frame End  :  14:28:55.049999 +/- 0.513809\n",
      "\n",
      "Level 1 Created           --> 2022-08-01 14:29:02+00:00 --> 6 seconds.\n",
      "Level 1 Available for us  --> 2022-08-01 14:29:19.142033+00:00 --> 24 seconds.\n"
     ]
    }
   ],
   "source": [
    "## Keep pinging AWS to check for a new product every check_ever_n_seconds\n",
    "## We are looking for Level 1 product\n",
    "\n",
    "while True:\n",
    "\n",
    "    df = helper.getProductList(start_time, end_time, product = radProduct, satellite = 16)\n",
    "\n",
    "    # Once all 16 bands are available\n",
    "    if len(df) >= 16:\n",
    "\n",
    "        # Note the time \n",
    "        dict_product_avaliable_time[radProduct] = datetime.datetime.now(datetime.timezone.utc)\n",
    "\n",
    "        print('')\n",
    "        print(\"Frame Start: \", df['start'].mean().strftime('%H:%M:%S.%f'), '+/-', df['start'].std().seconds + df['start'].std().microseconds/1E6)\n",
    "        print(\"Frame End  : \", df['end'].mean().strftime('%H:%M:%S.%f'),   '+/-', df['end'].std().seconds + df['end'].std().microseconds/1E6  )\n",
    "        print('')\n",
    "        \n",
    "        frameEndTime = df['end'].mean()\n",
    "        print(\"Level 1 Created           --> {} --> {} seconds.\".format(df.iloc[-1]['creation'], (df.iloc[-1]['creation'] - frameEndTime).seconds))\n",
    "        print(\"Level 1 Available for us  --> {} --> {} seconds.\".format(dict_product_avaliable_time[radProduct], (dict_product_avaliable_time[radProduct] - frameEndTime).seconds))\n",
    "        counter += 1\n",
    "\n",
    "        break\n",
    "    \n",
    "    \n",
    "    time.sleep(check_ever_n_seconds)\n"
   ]
  },
  {
   "cell_type": "markdown",
   "metadata": {},
   "source": [
    "### Check for relevant L2 \n",
    "--> If the product is not available, wait"
   ]
  },
  {
   "cell_type": "code",
   "execution_count": 7,
   "metadata": {},
   "outputs": [
    {
     "name": "stdout",
     "output_type": "stream",
     "text": [
      "noaa-goes16/ABI-L2-FDCC/2022/213/14/OR_ABI-L2-FDCC-M6_G16_s20222131426173_e20222131428546_c20222131429170.nc\n",
      "Level 2 ABI-L2-FDCC Created          --> 2022-08-01 14:29:17+00:00 --> 21 seconds.\n",
      "Level 2 ABI-L2-FDCC Available for us --> 2022-08-01 14:29:23.589821+00:00 --> 28 seconds.\n",
      "-------------------------------\n",
      "\n",
      "noaa-goes16/ABI-L2-MCMIPC/2022/213/14/OR_ABI-L2-MCMIPC-M6_G16_s20222131426173_e20222131428558_c20222131429056.nc\n",
      "Level 2 ABI-L2-MCMIPC Created          --> 2022-08-01 14:29:05.600000+00:00 --> 10 seconds.\n",
      "Level 2 ABI-L2-MCMIPC Available for us --> 2022-08-01 14:29:24.869660+00:00 --> 29 seconds.\n",
      "-------------------------------\n",
      "\n",
      "noaa-goes16/ABI-L2-ACMC/2022/213/14/OR_ABI-L2-ACMC-M6_G16_s20222131426173_e20222131428546_c20222131430083.nc\n",
      "Level 2 ABI-L2-ACMC Created          --> 2022-08-01 14:30:08.300000+00:00 --> 73 seconds.\n",
      "Level 2 ABI-L2-ACMC Available for us --> 2022-08-01 14:30:25.835199+00:00 --> 90 seconds.\n",
      "-------------------------------\n",
      "\n"
     ]
    }
   ],
   "source": [
    "while counter < len(dataProductCode):\n",
    "\n",
    "    ## Reset counter\n",
    "    counter = 0\n",
    "\n",
    "    for p in dataProductCode:\n",
    "        \n",
    "        \n",
    "        df = helper.getProductList(start_time, end_time, product = p, satellite = 16)\n",
    "\n",
    "        if len(df) > 0:\n",
    "\n",
    "            if p not in dict_product_avaliable_time.keys():\n",
    "                dict_product_avaliable_time[p] = datetime.datetime.now(datetime.timezone.utc)\n",
    "            \n",
    "                print(df.iloc[-1]['file'])\n",
    "                print(\"Level 2 {} Created          --> {} --> {} seconds.\".format(p, df.iloc[-1]['creation'], (df.iloc[-1]['creation'] - frameEndTime).seconds))\n",
    "                print(\"Level 2 {} Available for us --> {} --> {} seconds.\".format(p, dict_product_avaliable_time[p], (dict_product_avaliable_time[p] - frameEndTime).seconds))\n",
    "                print(\"-------------------------------\\n\")\n",
    "            counter += 1  \n",
    "    \n",
    "    time.sleep(check_ever_n_seconds)\n"
   ]
  },
  {
   "cell_type": "markdown",
   "metadata": {},
   "source": [
    "## Download Level 1 RAD CONUS data\n"
   ]
  },
  {
   "cell_type": "code",
   "execution_count": 8,
   "metadata": {},
   "outputs": [
    {
     "name": "stdout",
     "output_type": "stream",
     "text": [
      "1 unique image acquisitions found.\n",
      "Downloading from AWS:  noaa-goes16/ABI-L1b-RadC/2022/213/14/OR_ABI-L1b-RadC-M6C02_G16_s20222131426173_e20222131428546_c20222131428572.nc\n",
      "Downloading from AWS:  noaa-goes16/ABI-L1b-RadC/2022/213/14/OR_ABI-L1b-RadC-M6C07_G16_s20222131426173_e20222131428558_c20222131429007.nc\n",
      "Downloading from AWS:  noaa-goes16/ABI-L1b-RadC/2022/213/14/OR_ABI-L1b-RadC-M6C13_G16_s20222131426173_e20222131428558_c20222131429031.nc\n",
      "Downloading from AWS:  noaa-goes16/ABI-L1b-RadC/2022/213/14/OR_ABI-L1b-RadC-M6C14_G16_s20222131426173_e20222131428546_c20222131429024.nc\n",
      "Downloading from AWS:  noaa-goes16/ABI-L1b-RadC/2022/213/14/OR_ABI-L1b-RadC-M6C15_G16_s20222131426173_e20222131428552_c20222131429028.nc\n",
      "L1 RAD Download Done on: 2022-08-01 14:30:39.886833+00:00\n"
     ]
    }
   ],
   "source": [
    "df = helper.getProductList(start_time, end_time, product = 'ABI-L1b-RadC', satellite = 16)\n",
    "df = df[df[\"band\"].isin([2, 7, 13, 14, 15])]\n",
    "\n",
    "uniqueStartTimes = df['start'].unique()\n",
    "print(f'{len(uniqueStartTimes)} unique image acquisitions found.')\n",
    "\n",
    "helper.download(df = df, BASEDIR = DOWNLOAD_DIR, startTime = uniqueStartTimes[-1])\n",
    "\n",
    "print(\"L1 RAD Download Done on: {}\".format(datetime.datetime.now(datetime.timezone.utc)))"
   ]
  },
  {
   "cell_type": "markdown",
   "metadata": {},
   "source": [
    "## Download Level 2 Cloud and Moisture Imagery CONUS data"
   ]
  },
  {
   "cell_type": "code",
   "execution_count": 9,
   "metadata": {},
   "outputs": [
    {
     "name": "stdout",
     "output_type": "stream",
     "text": [
      "1 unique image acquisitions found.\n",
      "Downloading from AWS:  noaa-goes16/ABI-L2-MCMIPC/2022/213/14/OR_ABI-L2-MCMIPC-M6_G16_s20222131426173_e20222131428558_c20222131429056.nc\n",
      "L2 MCMIPC Download Done on: 2022-08-01 14:30:49.998493+00:00\n"
     ]
    }
   ],
   "source": [
    "df = helper.getProductList(start_time, end_time, product = 'ABI-L2-MCMIPC', satellite = 16)\n",
    "\n",
    "uniqueStartTimes = df['start'].unique()\n",
    "print(f'{len(uniqueStartTimes)} unique image acquisitions found.')\n",
    "\n",
    "helper.download(df = df, BASEDIR = DOWNLOAD_DIR, startTime = uniqueStartTimes[-1])\n",
    "\n",
    "print(\"L2 MCMIPC Download Done on: {}\".format(datetime.datetime.now(datetime.timezone.utc)))"
   ]
  }
 ],
 "metadata": {
  "kernelspec": {
   "display_name": "Python 3.8.13 ('pano')",
   "language": "python",
   "name": "python3"
  },
  "language_info": {
   "codemirror_mode": {
    "name": "ipython",
    "version": 3
   },
   "file_extension": ".py",
   "mimetype": "text/x-python",
   "name": "python",
   "nbconvert_exporter": "python",
   "pygments_lexer": "ipython3",
   "version": "3.8.13"
  },
  "orig_nbformat": 4,
  "vscode": {
   "interpreter": {
    "hash": "0e8130f8e28119e6b479b93ba16bc4586f5d34c098ec767ab47b2033c9aefe0c"
   }
  }
 },
 "nbformat": 4,
 "nbformat_minor": 2
}
